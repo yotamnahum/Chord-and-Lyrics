{
 "cells": [
  {
   "cell_type": "markdown",
   "metadata": {},
   "source": [
    "# Appmode in Jupyter\n",
    "\n",
    "This page demonstrates how to generate online \"apps\" with a Jupyter Notebook interface. With the `appmode` plugin, we can create interactive experiences without requiring coding or running a specific cell.\n",
    "\n",
    "Markdown cells will be retained, and all code cells will be run, then hidden. The outputs of each cell will be displayed as well.\n",
    "\n",
    "Check out a further example using an [ipyvolume](https://ipyvolume.readthedocs.io/en/latest/) to render a 3D plot: [ipyvolume_demo.ipynb](ipyvolume_demo.ipynb)"
   ]
  },
  {
   "cell_type": "code",
   "execution_count": null,
   "metadata": {},
   "outputs": [],
   "source": [
    "#!pip install pandas"
   ]
  },
  {
   "cell_type": "code",
   "execution_count": null,
   "metadata": {},
   "outputs": [],
   "source": [
    "from __future__ import print_function #\n",
    "import IPython\n",
    "from IPython.display import Javascript,clear_output,display #\n",
    "from ipywidgets import interact, interactive, fixed, interact_manual,Layout,jslink,Button, Layout, jslink, IntText, IntSlider,TwoByTwoLayout #\n",
    "import ipywidgets as widgets\n",
    "import copy #\n",
    "from bs4 import BeautifulSoup \n",
    "from urllib.request import Request, urlopen #\n",
    "import pandas as pd #\n",
    "import requests #\n",
    "from io import StringIO #\n",
    "from pychord import Chord"
   ]
  },
  {
   "cell_type": "code",
   "execution_count": null,
   "metadata": {},
   "outputs": [],
   "source": [
    "# import song list\n",
    "def song_table():\n",
    "    orig_url='https://drive.google.com/file/d/1aDrlFu5eSabjo8CVKAOG6ljfr5OihZLq/view?usp=sharing'\n",
    "    file_id = orig_url.split('/')[-2]\n",
    "    dwn_url='https://drive.google.com/uc?export=download&id=' + file_id\n",
    "    text = requests.get(dwn_url)\n",
    "    text.encoding = 'utf-8'\n",
    "    csv_raw = StringIO(text.text)\n",
    "    df = pd.read_csv(csv_raw,encoding='utf-8')\n",
    "    df['אמן'] = df['אמן'].apply(lambda x: x.strip())\n",
    "    df['שיר'] = df['שיר'].apply(lambda x: x.strip())\n",
    "    df['shir_aman'] = df['אמן']+\" | \"+df['שיר'] \n",
    "    return df\n",
    "\n",
    "df = song_table()"
   ]
  },
  {
   "cell_type": "code",
   "execution_count": null,
   "metadata": {},
   "outputs": [],
   "source": [
    "def artist_songs(artist_name='א'):\n",
    "      song_list = df.loc[df['shir_aman'].str.contains(artist_name)]['shir_aman'].sort_values()\n",
    "      song_list = list(zip(song_list,song_list.index))\n",
    "      return song_list"
   ]
  },
  {
   "cell_type": "code",
   "execution_count": null,
   "metadata": {
    "scrolled": true
   },
   "outputs": [],
   "source": [
    "from __future__ import division\n",
    "from ipywidgets import IntSlider, Label,Text\n",
    "import ipywidgets as widgets\n",
    "\n",
    "\n",
    "song_tab = widgets.Select(options=artist_songs(),rows=10)\n",
    "\n",
    "\n",
    "text = widgets.Text(\n",
    "    value='',\n",
    "    placeholder='חפש שיר או אמן',\n",
    "    disabled=False\n",
    ")\n",
    "\n",
    "\n",
    "\n",
    "def handle_slider_change(change):\n",
    "    #new_options = []\n",
    "    #for i in orig_options:\n",
    "        #print(i)\n",
    "        #if change.new in i:\n",
    "          #  new_options.append(i)\n",
    "    new_options = artist_songs(change.new)\n",
    "    song_tab.options = new_options\n",
    "   # drop.value = change.new \n",
    "\n",
    "text.observe(handle_slider_change, names='value')\n",
    "display(text,song_tab)\n"
   ]
  },
  {
   "cell_type": "code",
   "execution_count": null,
   "metadata": {},
   "outputs": [],
   "source": [
    "song_tab.value"
   ]
  },
  {
   "cell_type": "code",
   "execution_count": null,
   "metadata": {
    "scrolled": true
   },
   "outputs": [],
   "source": [
    "from IPython.display import display\n",
    "button = widgets.Button(description=\"Click Me!\")\n",
    "output = widgets.Output()\n",
    "\n",
    "display(button, output)\n",
    "\n",
    "def on_button_clicked(b):\n",
    "    with output:\n",
    "      #clear_output()\n",
    "      #with output:\n",
    "      #display(IPython.display.HTML(\"<marquee style='width: 30%; color: purple;'><b>✌ ...טוען שיר</b></marquee>\"))\n",
    "      #clear_output()\n",
    "      myurl = df.iloc[song_tab.value]['לינק']\n",
    "      req = Request(myurl, headers={'User-Agent': 'Mozilla/5.0'})\n",
    "      webpage = urlopen(req).read()\n",
    "      soupified = BeautifulSoup(webpage,'lxml' ) # 'html.parser'\n",
    "      song = soupified.find(\"div\", {\"class\": \"song_block\"}) #Find the nevessary tag and class which it belongs to\n",
    "      header = song.find(attrs={\"class\":\"song_block_title\"})\n",
    "      # Clean the HTML from ads and more unnecessary stuff\n",
    "      header = header.get_text().strip().replace(\"אקורדים לשיר \",\"\")\n",
    "\n",
    "      text_alignment = 'right'\n",
    "      header = f\"\"\"<h1 style=\"text-align: {text_alignment}\">\"\"\"+header+'</h1>'\n",
    "      on_button_clicked.header = header\n",
    "\n",
    "      progression_status =f\"\"\"<h4 style=\"text-align: {text_alignment}\">\"\"\"+f\"הסולם המקורי\"+\"</h4><h4></h4>\"\n",
    "      header_progression = header+progression_status\n",
    "\n",
    "      delete_nodes = [{\"class\":\"song_rating\"},\n",
    "                      {\"class\":\"row\"},\n",
    "                      {\"id\":\"songad\"},\n",
    "                      {\"class\":\"song_block_title\"},\n",
    "                      {\"id\":\"songTopAd8Td\"},\n",
    "                      {\"class\":\"videosTitle\"},\n",
    "                      {\"type\":\"text/javascript\"},\n",
    "                      {\"id\":\"taboola-below-article-thumbnails\"},\n",
    "                      {\"id\":\"downInSongTable\"},\n",
    "                      {\"class\":\"chord_info\"}]\n",
    "\n",
    "      for node in delete_nodes:\n",
    "        for div in song.find_all(attrs=node): \n",
    "            div.decompose()\n",
    "\n",
    "      # Align guitar TABS to the left\n",
    "      tab_list = ''\n",
    "      tab_nodes = [{\"class\":\"tabs\"}]\n",
    "      for node in tab_nodes:\n",
    "        for div in song.find_all(attrs=node):\n",
    "          div['dir'] = 'ltr'\n",
    "          div['align'] = 'left'\n",
    "          #div['display'] = 'inline-block'\n",
    "          #div['width'] = '300px'\n",
    "          div['position'] = 'absolute'\n",
    "          div['right'] = '10%'\n",
    "          #div['margin-left'] = '300px'\n",
    "          tab_list=tab_list+'<p'+str(div)+'</p>'\n",
    "      on_button_clicked.song=song\n",
    "      # Merge Header & Song(words+chords)\n",
    "      full_page=header_progression+str(song)\n",
    "      on_button_clicked.full_page = full_page\n",
    "      display(IPython.display.HTML(full_page))\n",
    "\n",
    "\n",
    "button.on_click(on_button_clicked)"
   ]
  },
  {
   "cell_type": "code",
   "execution_count": null,
   "metadata": {},
   "outputs": [],
   "source": [
    "\n"
   ]
  },
  {
   "cell_type": "code",
   "execution_count": null,
   "metadata": {},
   "outputs": [],
   "source": []
  }
 ],
 "metadata": {
  "kernelspec": {
   "display_name": "Python 3",
   "language": "python",
   "name": "python3"
  },
  "language_info": {
   "codemirror_mode": {
    "name": "ipython",
    "version": 3
   },
   "file_extension": ".py",
   "mimetype": "text/x-python",
   "name": "python",
   "nbconvert_exporter": "python",
   "pygments_lexer": "ipython3",
   "version": "3.7.8"
  }
 },
 "nbformat": 4,
 "nbformat_minor": 2
}
