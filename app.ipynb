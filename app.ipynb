from __future__ import division
from ipywidgets import IntSlider, Label,Text
import ipywidgets as widgets
orig_options = ['yotam', 'noga', 'ori']
drop = widgets.Dropdown(
    options=orig_options,
    value='yotam',
    description='artist:',
    disabled=False,
)


text = widgets.Text(
    value='yotam',
    placeholder='Type something',
    description='String:',
    disabled=False
)



def handle_slider_change(change):
    new_options = []
    for i in orig_options:
        print(i)
        if change.new in i:
            new_options.append(i)
    drop.options = new_options
    print(new_options)
   # drop.value = change.new 

text.observe(handle_slider_change, names='value')
display(text, drop)
